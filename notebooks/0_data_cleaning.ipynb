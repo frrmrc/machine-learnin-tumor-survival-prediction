{
 "cells": [
  {
   "cell_type": "markdown",
   "id": "c4e5eee5",
   "metadata": {},
   "source": [
    "# Pulizia dataset"
   ]
  },
  {
   "cell_type": "code",
   "execution_count": null,
   "id": "ee87907e",
   "metadata": {},
   "outputs": [],
   "source": [
    "#import\n",
    "\n",
    "import pandas as pd\n",
    "import numpy as np\n",
    "import sklearn\n",
    "import plotly.express as ex\n",
    "\n",
    "df=pd.read_csv(r\"path/to/your/dataset.csv\")  # Update with your dataset path\n",
    "\n",
    "sklearn.set_config(transform_output='pandas')\n",
    "pd.set_option('display.max_rows', None)         # Nessun limite sul numero di righe stampate\n",
    "pd.set_option('display.max_colwidth', None)     # Mostra interamente il contenuto delle celle\n",
    "\n",
    "df=df[df['SEER cause-specific death classification']=='Dead (attributable to this cancer dx)']\n"
   ]
  },
  {
   "cell_type": "code",
   "execution_count": 5,
   "id": "61d18941",
   "metadata": {},
   "outputs": [
    {
     "data": {
      "text/plain": [
       "(714694, 54)"
      ]
     },
     "execution_count": 5,
     "metadata": {},
     "output_type": "execute_result"
    }
   ],
   "source": [
    "df.shape"
   ]
  },
  {
   "cell_type": "code",
   "execution_count": 58,
   "id": "85c5dade",
   "metadata": {},
   "outputs": [
    {
     "data": {
      "text/plain": [
       "np.int64(0)"
      ]
     },
     "execution_count": 58,
     "metadata": {},
     "output_type": "execute_result"
    }
   ],
   "source": [
    "df['Chemotherapy recode (yes, no/unk)'].isna().sum()"
   ]
  },
  {
   "cell_type": "code",
   "execution_count": 47,
   "id": "327c6943",
   "metadata": {},
   "outputs": [],
   "source": [
    "#rinomina colonne\n",
    "df.rename(columns={\n",
    "    'Age recode with <1 year olds and 90+': \"age\",\n",
    "    'Sex': \"sex\",\n",
    "    'Year of diagnosis': \"diagnosis_year\",\n",
    "    'Site recode ICD-O-3 2023 Revision': \"site_recode_2023\",\n",
    "    'Primary Site - labeled': \"primary_site\",\n",
    "    'Laterality': \"laterality\",\n",
    "    'Diagnostic Confirmation': \"diagnostic_confirmation\",\n",
    "    'Grade Clinical (2018+)': \"clinical_grade\",\n",
    "    'Derived EOD 2018 T Recode (2018+)': \"eod_t\",\n",
    "    'Derived EOD 2018 N Recode (2018+)': \"eod_n\",\n",
    "    'Derived EOD 2018 M Recode (2018+)': \"eod_m\",\n",
    "    'Derived EOD 2018 Stage Group Recode (2018+)': \"eod_stage_group\",\n",
    "    'RX Summ--Surg Prim Site (1998+)': \"rx_summ_surg_prim_site\",\n",
    "    'RX Summ--Scope Reg LN Sur (2003+)': \"rx_summ_scope_reg_ln_sur\",\n",
    "    'RX Summ--Surg Oth Reg/Dis (2003+)': \"rx_summ_surg_oth_reg_dis\",\n",
    "    'RX Summ--Surg/Rad Seq': \"rx_summ_surg_rad_seq\",\n",
    "    'Reason no cancer-directed surgery': \"reason_no_surgery\",\n",
    "    'Radiation recode': \"radiation\",\n",
    "    'Chemotherapy recode (yes, no/unk)': \"chemo_yes_no\",\n",
    "    'RX Summ--Systemic/Sur Seq (2007+)': \"rx_summ_systemic_sur_seq\",\n",
    "    'Time from diagnosis to treatment in days recode': \"days_from_diagnosis_to_treatment\",\n",
    "    'EOD Primary Tumor Recode (2018+)': \"eod_primary_tumor\",\n",
    "    'EOD Regional Nodes Recode (2018+)': \"eod_regional_nodes\",\n",
    "    'EOD Mets Recode (2018+)': \"eod_mets\",\n",
    "    'Sentinel Lymph Nodes Examined (2018+)': \"n_sentinel_lymph_nodes\",\n",
    "    'Tumor Size Summary (2016+)': \"tumor_size_summary\",\n",
    "    'SEER Combined Mets at DX-bone (2010+)': \"mets_at_bone\",\n",
    "    'SEER Combined Mets at DX-brain (2010+)': \"mets_at_brain\",\n",
    "    'SEER Combined Mets at DX-liver (2010+)': \"mets_at_liver\",\n",
    "    'SEER Combined Mets at DX-lung (2010+)': \"mets_at_lung\",\n",
    "    'Mets at DX-Distant LN (2016+)': \"mets_at_dx_distand_ln\",\n",
    "    'Mets at DX-Other (2016+)': \"mets_at_dx_other\",\n",
    "    'Estrogen Receptor Summary (2018+)': \"estrogen_receptor\",\n",
    "    'HER2 Overall Summary Recode (2018+)': \"her2_summary\",\n",
    "    'Progesterone Receptor Summary (2018+)': \"pr_summary\",\n",
    "    'Survival months': \"survival_months\",\n",
    "    'First malignant primary indicator': \"first_malignant_tumor\",\n",
    "    'Total number of in situ/malignant tumors for patient': 'n_in_situ_malignant_tumors',\n",
    "    'Total number of benign/borderline tumors for patient': \"n_benign_borderline_tumors\",\n",
    "    'Type of Reporting Source': \"report_source\",\n",
    "    'Marital status at diagnosis': \"marital_status\",\n",
    "    'Median household income inflation adj to 2023': \"median_household_income_adj_2023\",\n",
    "    'Rural-Urban Continuum Code': \"rural_urban_continuum\"\n",
    "}, inplace=True)\n",
    "\n"
   ]
  },
  {
   "cell_type": "code",
   "execution_count": 48,
   "id": "92e4e199",
   "metadata": {},
   "outputs": [],
   "source": [
    "#mappature ed elaborazione valori\n",
    "df[\"age\"] = df[\"age\"].str.extract(r\"(\\d+)\", expand=False).astype(int) #rendi numerici gli intervalli di età\n",
    "df.loc[df[\"days_from_diagnosis_to_treatment\"] == '731+ days', \"days_from_diagnosis_to_treatment\"] = 732\n",
    "df.loc[df[\"days_from_diagnosis_to_treatment\"] == 'Unable to calculate', \"days_from_diagnosis_to_treatment\"] = np.nan\n",
    "cols = ['mets_at_lung', 'mets_at_brain', 'mets_at_bone', 'mets_at_liver']\n",
    "for col in cols:\n",
    "    df[col] = df[col].fillna('Not_Applicable')\n",
    "df['E_R_binary'] = df.apply(\n",
    "    lambda r: 1 if r['site_recode_2023']=='Breast' and r['estrogen_receptor']=='ER positive' else\n",
    "              0 if r['site_recode_2023']=='Breast' and r['estrogen_receptor']=='ER negative' else\n",
    "              np.nan,\n",
    "    axis=1)\n",
    "\n",
    "df['her2_binary'] = df.apply(\n",
    "    lambda r: 1 if r['site_recode_2023']=='Breast' and r['her2_summary']=='HER2 positive' else\n",
    "              0 if r['site_recode_2023']=='Breast' and r['her2_summary']=='HER2 negative; equivocal' else\n",
    "              np.nan,\n",
    "    axis=1)\n",
    "\n",
    "df['pr_binary'] = df.apply(\n",
    "    lambda r: 1 if r['site_recode_2023']=='Breast' and r['pr_summary']=='PR positive' else\n",
    "              0 if r['site_recode_2023']=='Breast' and r['pr_summary']=='PR negative' else\n",
    "              np.nan,\n",
    "    axis=1)\n",
    "\n",
    "mapping = {\n",
    "    '$120,000+': 120000,\n",
    "    '$110,000 - $119,999': 115000,\n",
    "    '$100,000 - $109,999': 105000,\n",
    "    '$95,000 - $99,999': 97500,\n",
    "    '$90,000 - $94,999': 92500,\n",
    "    '$85,000 - $89,999': 87500,\n",
    "    '$80,000 - $84,999': 82500,\n",
    "    '$75,000 - $79,999': 77500,\n",
    "    '$70,000 - $74,999': 72500,\n",
    "    '$65,000 - $69,999': 67500,\n",
    "    '$60,000 - $64,999': 62500,\n",
    "    '$55,000 - $59,999': 57500,\n",
    "    '$50,000 - $54,999': 52500,\n",
    "    '$45,000 - $49,999': 47500,\n",
    "    '$40,000 - $44,999': 42500,\n",
    "    '< $40,000': 35000,\n",
    "    'Unknown/missing/no match/Not 1990-2023': None\n",
    "}\n",
    "\n",
    "df['median_household_income_adj_2023'] = df['median_household_income_adj_2023'].map(mapping)\n",
    "\n",
    "\n",
    "label_maps = {\n",
    "    'sex': {'Male': 0, 'Female': 1},\n",
    "    'chemo_yes_no': {'No/Unknown': 0, 'Yes': 1},\n",
    "    'first_malignant_tumor': {'No': 0, 'Yes': 1},\n",
    "    'Origin recode NHIA (Hispanic, Non-Hisp)': {'Non-Spanish-Hispanic-Latino': 0, 'Spanish-Hispanic-Latino': 1},\n",
    "\n",
    "}\n",
    "for col in label_maps:\n",
    "    df[col] = df[col].map(label_maps[col])\n",
    "\n",
    "df['days_from_diagnosis_to_treatment'] = pd.to_numeric(df['days_from_diagnosis_to_treatment'], errors='coerce')\n",
    "df['days_from_diagnosis_to_treatment'] = df['days_from_diagnosis_to_treatment'].fillna(df['days_from_diagnosis_to_treatment'].mean())\n",
    "df['median_household_income_adj_2023'] = df['median_household_income_adj_2023'].fillna(df['median_household_income_adj_2023'].mean())\n",
    "df['rx_summ_scope_reg_ln_sur'] = df['rx_summ_scope_reg_ln_sur'].fillna('Unknown or not applicable')\n"
   ]
  },
  {
   "cell_type": "code",
   "execution_count": 51,
   "id": "e591b5b7",
   "metadata": {},
   "outputs": [],
   "source": [
    "# rimozione di records e colonne\n",
    "df = df[df['survival_months'] != \"Unknown\"]\n",
    "df = df[df['clinical_grade'] != \"S\"]\n",
    "df = df[df['Race recode (W, B, AI, API)'] != \"Unknown\"]\n",
    "df = df[df['laterality'] != \"Only one side - side unspecified\"]\n",
    "df = df[df['diagnostic_confirmation'] != \"Unknown\"]\n",
    "df = df[df['rural_urban_continuum'] != \"Unknown/missing/no match/Not 1990-2023\"]\n",
    "\n",
    "df.drop(columns=['Site recode ICD-O-3 2023 Revision Expanded'], inplace=True)\n",
    "df.drop(columns=['Behavior recode for analysis'], inplace=True)# tutti i tumori nel dataset sono maligni\n",
    "df.drop(columns=['Race recode (W, B, AI, API)'], inplace=True)\n",
    "df.drop(columns=['laterality'], inplace=True)\n",
    "df.drop(columns=['AJCC ID (2018+)'], inplace=True)"
   ]
  },
  {
   "cell_type": "code",
   "execution_count": 54,
   "id": "89d44809",
   "metadata": {},
   "outputs": [],
   "source": [
    "# salvataggio\n",
    "df.to_csv( r'C:\\ML _SUPERVISED\\progetto esame\\df_clean_5.csv')"
   ]
  },
  {
   "cell_type": "markdown",
   "id": "930b97a4",
   "metadata": {},
   "source": [
    "# esplorazione variabili numeriche"
   ]
  },
  {
   "cell_type": "code",
   "execution_count": null,
   "id": "9146d301",
   "metadata": {},
   "outputs": [],
   "source": [
    "# grafici per visualizzare relazioni tra survival_months e variabili numeriche\n",
    "df=pd.read_csv(r'C:\\ML _SUPERVISED\\progetto esame\\df_clean_3.csv')\n",
    "import plotly.express as px\n",
    "\n",
    "columns = [\n",
    "    'age',\n",
    "    'days_from_diagnosis_to_treatment',\n",
    "    'n_in_situ_malignant_tumors',\n",
    "    'n_benign_borderline_tumors',\n",
    "    'median_household_income_adj_2023'\n",
    "]\n",
    "\n",
    "for col in columns:\n",
    "    fig = px.scatter(\n",
    "        df,\n",
    "        x=col,\n",
    "        y='survival_months',\n",
    "        title=f'{col} vs. survival_months',\n",
    "        #opacity=0.6\n",
    "    )\n",
    "    fig.show()\n"
   ]
  }
 ],
 "metadata": {
  "kernelspec": {
   "display_name": "environment",
   "language": "python",
   "name": "python3"
  },
  "language_info": {
   "codemirror_mode": {
    "name": "ipython",
    "version": 3
   },
   "file_extension": ".py",
   "mimetype": "text/x-python",
   "name": "python",
   "nbconvert_exporter": "python",
   "pygments_lexer": "ipython3",
   "version": "3.12.7"
  }
 },
 "nbformat": 4,
 "nbformat_minor": 5
}
